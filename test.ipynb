{
 "cells": [
  {
   "cell_type": "code",
   "id": "initial_id",
   "metadata": {
    "collapsed": true,
    "ExecuteTime": {
     "end_time": "2025-04-21T12:42:01.629175Z",
     "start_time": "2025-04-21T12:42:01.622299Z"
    }
   },
   "source": [
    "import torch\n",
    "import pandas as pd\n",
    "mask = torch.tril(torch.ones(16, 16))\n",
    "mask\n",
    "mask = mask == 0\n",
    "pd.DataFrame(mask.detach().cpu().numpy())\n",
    "\n",
    "arr = torch.tensor([1,0,1,1,1,0,0,0,1,1,1,1,1,1,1,1])\n",
    "arr = arr == 1\n",
    "# arr"
   ],
   "outputs": [],
   "execution_count": 24
  },
  {
   "metadata": {
    "ExecuteTime": {
     "end_time": "2025-04-21T12:42:03.103567Z",
     "start_time": "2025-04-21T12:42:03.097565Z"
    }
   },
   "cell_type": "code",
   "source": [
    "# mask\n",
    "arr"
   ],
   "id": "e16d012170b7b48b",
   "outputs": [
    {
     "data": {
      "text/plain": [
       "tensor([ True, False,  True,  True,  True, False, False, False,  True,  True,\n",
       "         True,  True,  True,  True,  True,  True])"
      ]
     },
     "execution_count": 25,
     "metadata": {},
     "output_type": "execute_result"
    }
   ],
   "execution_count": 25
  }
 ],
 "metadata": {
  "kernelspec": {
   "display_name": "Python 3",
   "language": "python",
   "name": "python3"
  },
  "language_info": {
   "codemirror_mode": {
    "name": "ipython",
    "version": 2
   },
   "file_extension": ".py",
   "mimetype": "text/x-python",
   "name": "python",
   "nbconvert_exporter": "python",
   "pygments_lexer": "ipython2",
   "version": "2.7.6"
  }
 },
 "nbformat": 4,
 "nbformat_minor": 5
}
